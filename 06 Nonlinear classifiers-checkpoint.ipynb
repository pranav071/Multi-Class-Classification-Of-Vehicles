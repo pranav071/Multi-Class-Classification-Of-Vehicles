{
 "cells": [
  {
   "cell_type": "markdown",
   "id": "c865371c",
   "metadata": {},
   "source": [
    "# Image Classifier - <i><font color=orange>06 Nonlinear classifiers</font></i>\n",
    "We will first build a random forest by tuning its n_estimators and max_depth hyperparameters using a cross validated grid search. We will then build a support vector machines with a linear kernel and another one with an rbf kernel. We will tune the rbf ones C and gamma hyperparameters using a cross validated grid search. Finally, we will compare the results."
   ]
  },
  {
   "cell_type": "code",
   "execution_count": 1,
   "id": "a174377b",
   "metadata": {},
   "outputs": [],
   "source": [
    "import os\n",
    "# disable recognition of CUDA capable graphics card to avoid library updates. We will stick to CPU processing for this exercise.\n",
    "os.environ[\"CUDA_VISIBLE_DEVICES\"] = \"-1\"\n",
    "\n",
    "import numpy as np\n",
    "import pickle\n",
    "\n",
    "import tensorflow as tf"
   ]
  },
  {
   "cell_type": "code",
   "execution_count": 2,
   "id": "94d017a1",
   "metadata": {},
   "outputs": [],
   "source": [
    "# load the processed lists and supporting data in npz format - we had earlier saved this in the first segment of our code.\n",
    "with np.load('training.npz', allow_pickle=False) as npz_file:\n",
    "    # Load the arrays\n",
    "    imgs_train = npz_file['images']\n",
    "    x_train = npz_file['features']\n",
    "    y_train_ohe = npz_file['targets_ohe']\n",
    "    y_train_int = npz_file['targets_int']\n",
    "    labels_train = npz_file['labels']    \n",
    "    \n",
    "with np.load('validation.npz', allow_pickle=False) as npz_file:\n",
    "    # Load the arrays\n",
    "    imgs_valid = npz_file['images']\n",
    "    x_valid = npz_file['features']\n",
    "    y_valid_ohe = npz_file['targets_ohe']\n",
    "    y_valid_int = npz_file['targets_int']\n",
    "    labels_valid = npz_file['labels']    \n",
    "\n",
    "with np.load('testing.npz', allow_pickle=False) as npz_file:\n",
    "    # Load the arrays\n",
    "    imgs_test = npz_file['images']\n",
    "    x_test = npz_file['features']\n",
    "    y_test_ohe = npz_file['targets_ohe']\n",
    "    y_test_int = npz_file['targets_int']\n",
    "    labels_test = npz_file['labels']    \n",
    "    \n",
    "with open('labels_dict.pkl', 'rb') as f:\n",
    "    labels = pickle.load(f)\n",
    "    \n",
    "with open('results_dict.pkl', 'rb') as f:\n",
    "    results = pickle.load(f)   "
   ]
  },
  {
   "cell_type": "markdown",
   "id": "796e3f44",
   "metadata": {},
   "source": [
    "<h3> Lets build a random forest</h3>\n",
    "We will use GridSearchCV with diferent number of estimators and decision tree depths.\n",
    "\n",
    "Since cross validation creates its own validation set, we could have merge our training and validation sets but we will not do so. This is to maintain parity with the training data used with the other models for a fair comparison."
   ]
  },
  {
   "cell_type": "code",
   "execution_count": 3,
   "id": "5bd4b79b",
   "metadata": {},
   "outputs": [
    {
     "name": "stdout",
     "output_type": "stream",
     "text": [
      "Fitting 5 folds for each of 140 candidates, totalling 700 fits\n"
     ]
    },
    {
     "name": "stderr",
     "output_type": "stream",
     "text": [
      "[Parallel(n_jobs=8)]: Using backend LokyBackend with 8 concurrent workers.\n",
      "[Parallel(n_jobs=8)]: Done  34 tasks      | elapsed:    0.8s\n",
      "[Parallel(n_jobs=8)]: Done 700 out of 700 | elapsed:    9.4s finished\n",
      "C:\\Users\\prasa\\anaconda3\\envs\\exts-ml\\lib\\site-packages\\sklearn\\model_selection\\_search.py:841: DeprecationWarning: The default of the `iid` parameter will change from True to False in version 0.22 and will be removed in 0.24. This will change numeric results when test-set sizes are unequal.\n",
      "  DeprecationWarning)\n"
     ]
    },
    {
     "name": "stdout",
     "output_type": "stream",
     "text": [
      "Training Accuracy: 1.000\n",
      "Validation Accuracy: 0.885\n",
      "Test Accuracy: 0.960\n"
     ]
    }
   ],
   "source": [
    "#ref: decision-trees-and-svms-v2/units/random-forests-v2\n",
    "\n",
    "from sklearn.ensemble import RandomForestClassifier\n",
    "from sklearn.preprocessing import StandardScaler\n",
    "from sklearn.pipeline import Pipeline\n",
    "from sklearn.model_selection import GridSearchCV\n",
    "\n",
    "# we will test with different number of decision trees\n",
    "n_estimators = [1,2,3,4,5,10,20,30,40,50,75,100,150,200]\n",
    "\n",
    "# we will also test with 10 different depths of decision trees for each of the above combination\n",
    "max_depth = range(1, 11)\n",
    "\n",
    "# Define a grid of values\n",
    "grid = {\n",
    "    'rf__n_estimators': n_estimators,\n",
    "    'rf__max_depth': max_depth\n",
    "}\n",
    "\n",
    "# Create random forest pipeline\n",
    "pipe = Pipeline([\n",
    "    ('scaler', StandardScaler()),\n",
    "    ('rf', RandomForestClassifier())\n",
    "])\n",
    "\n",
    "grid_cv = GridSearchCV(pipe, grid, cv=5, return_train_score=True, verbose=True, n_jobs=8)\n",
    "\n",
    "grid_cv.fit(x_train, y_train_int)\n",
    "\n",
    "# Evaluate on train, validation and test set\n",
    "train_accuracy = grid_cv.score(x_train, y_train_int)\n",
    "valid_accuracy = grid_cv.score(x_valid, y_valid_int)\n",
    "test_accuracy = grid_cv.score(x_test, y_test_int)\n",
    "\n",
    "print('Training Accuracy: {:.3f}'.format(train_accuracy))\n",
    "print('Validation Accuracy: {:.3f}'.format(valid_accuracy)) \n",
    "print('Test Accuracy: {:.3f}'.format(test_accuracy)) "
   ]
  },
  {
   "cell_type": "code",
   "execution_count": 4,
   "id": "0b8ec82e",
   "metadata": {},
   "outputs": [
    {
     "data": {
      "text/html": [
       "<div>\n",
       "<style scoped>\n",
       "    .dataframe tbody tr th:only-of-type {\n",
       "        vertical-align: middle;\n",
       "    }\n",
       "\n",
       "    .dataframe tbody tr th {\n",
       "        vertical-align: top;\n",
       "    }\n",
       "\n",
       "    .dataframe thead th {\n",
       "        text-align: right;\n",
       "    }\n",
       "</style>\n",
       "<table border=\"1\" class=\"dataframe\">\n",
       "  <thead>\n",
       "    <tr style=\"text-align: right;\">\n",
       "      <th></th>\n",
       "      <th>mean_test_score</th>\n",
       "      <th>std_test_score</th>\n",
       "      <th>mean_train_score</th>\n",
       "      <th>std_train_score</th>\n",
       "      <th>param_rf__n_estimators</th>\n",
       "      <th>param_rf__max_depth</th>\n",
       "    </tr>\n",
       "  </thead>\n",
       "  <tbody>\n",
       "    <tr>\n",
       "      <th>137</th>\n",
       "      <td>0.882143</td>\n",
       "      <td>0.034233</td>\n",
       "      <td>1.000000</td>\n",
       "      <td>0.000000</td>\n",
       "      <td>100</td>\n",
       "      <td>10</td>\n",
       "    </tr>\n",
       "    <tr>\n",
       "      <th>96</th>\n",
       "      <td>0.882143</td>\n",
       "      <td>0.014118</td>\n",
       "      <td>1.000000</td>\n",
       "      <td>0.000000</td>\n",
       "      <td>150</td>\n",
       "      <td>7</td>\n",
       "    </tr>\n",
       "    <tr>\n",
       "      <th>78</th>\n",
       "      <td>0.875000</td>\n",
       "      <td>0.036898</td>\n",
       "      <td>1.000000</td>\n",
       "      <td>0.000000</td>\n",
       "      <td>40</td>\n",
       "      <td>6</td>\n",
       "    </tr>\n",
       "    <tr>\n",
       "      <th>97</th>\n",
       "      <td>0.871429</td>\n",
       "      <td>0.032406</td>\n",
       "      <td>1.000000</td>\n",
       "      <td>0.000000</td>\n",
       "      <td>200</td>\n",
       "      <td>7</td>\n",
       "    </tr>\n",
       "    <tr>\n",
       "      <th>69</th>\n",
       "      <td>0.871429</td>\n",
       "      <td>0.033622</td>\n",
       "      <td>0.999111</td>\n",
       "      <td>0.001778</td>\n",
       "      <td>200</td>\n",
       "      <td>5</td>\n",
       "    </tr>\n",
       "  </tbody>\n",
       "</table>\n",
       "</div>"
      ],
      "text/plain": [
       "     mean_test_score  std_test_score  mean_train_score  std_train_score  \\\n",
       "137         0.882143        0.034233          1.000000         0.000000   \n",
       "96          0.882143        0.014118          1.000000         0.000000   \n",
       "78          0.875000        0.036898          1.000000         0.000000   \n",
       "97          0.871429        0.032406          1.000000         0.000000   \n",
       "69          0.871429        0.033622          0.999111         0.001778   \n",
       "\n",
       "    param_rf__n_estimators param_rf__max_depth  \n",
       "137                    100                  10  \n",
       "96                     150                   7  \n",
       "78                      40                   6  \n",
       "97                     200                   7  \n",
       "69                     200                   5  "
      ]
     },
     "execution_count": 4,
     "metadata": {},
     "output_type": "execute_result"
    }
   ],
   "source": [
    "# let us use a dataframe to visualize the results\n",
    "import pandas as pd\n",
    "\n",
    "# Collect results in a DataFrame\n",
    "cv_results = pd.DataFrame(grid_cv.cv_results_)\n",
    "\n",
    "# Print a few interesting columns\n",
    "cols = ['mean_test_score', 'std_test_score', 'mean_train_score', 'std_train_score', 'param_rf__n_estimators', 'param_rf__max_depth']\n",
    "cv_results[cols].sort_values('mean_test_score', ascending=False).head()"
   ]
  },
  {
   "cell_type": "code",
   "execution_count": 5,
   "id": "37232778",
   "metadata": {},
   "outputs": [
    {
     "data": {
      "image/png": "[encoded data removed]",
      "text/plain": [
       "<Figure size 1152x288 with 2 Axes>"
      ]
     },
     "metadata": {
      "needs_background": "light"
     },
     "output_type": "display_data"
    }
   ],
   "source": [
    "# lets get the best test mean score\n",
    "best_test_accuracy = cv_results.sort_values('mean_test_score', ascending=False)['mean_test_score'].iloc[0]\n",
    "best_max_depth = grid_cv.best_estimator_.named_steps['rf'].max_depth\n",
    "best_n_estimators = grid_cv.best_estimator_.named_steps['rf'].n_estimators\n",
    "\n",
    "# lets plot all the results with best max depth to obseve the effect of estimators. \n",
    "# For this, we will create a snapshot of the cv_results dataframe with best param_rf__max_depth\n",
    "dt_estimators = cv_results[cv_results['param_rf__max_depth'] == best_max_depth]\n",
    "\n",
    "# lets also plot all the results with best n_estimators to obseve the effect of decision tree depth. \n",
    "# For this, we will create a snapshot of the cv_results dataframe with best param_rf__n_estimators\n",
    "dt_maxdepth = cv_results[cv_results['param_rf__n_estimators'] == best_n_estimators]\n",
    "\n",
    "%matplotlib inline\n",
    "import matplotlib.pyplot as plt\n",
    "\n",
    "# create 2 subplots for Number of estimators and \n",
    "fig, (ax1, ax2) = plt.subplots(nrows=1,ncols=2,figsize=(16,4))\n",
    "\n",
    "# Plot training/validation accuracy curves\n",
    "ax1.plot(dt_estimators[\"param_rf__n_estimators\"], dt_estimators[\"mean_train_score\"], label='training accuracy')\n",
    "ax1.plot(dt_estimators[\"param_rf__n_estimators\"], dt_estimators[\"mean_test_score\"],  label='validation accuracy')\n",
    "ax1.scatter(best_n_estimators, best_test_accuracy, marker='o', c='red', zorder=10)\n",
    "ax1.set_xlabel('Number of estimators')\n",
    "ax1.set_ylabel('Accuracy')\n",
    "ax1.set_title(\"Evolution of training/validation accuracy with 'Number of estimators'\\nBest n_estimator = \" + str(best_n_estimators))\n",
    "ax1.legend()\n",
    "\n",
    "# Plot training/validation accuracy curves\n",
    "ax2.plot(dt_maxdepth[\"param_rf__max_depth\"], dt_maxdepth[\"mean_train_score\"], label='training accuracy')\n",
    "ax2.plot(dt_maxdepth[\"param_rf__max_depth\"], dt_maxdepth[\"mean_test_score\"],  label='validation accuracy')\n",
    "ax2.scatter(best_max_depth, best_test_accuracy, marker='o', c='red', zorder=10)\n",
    "ax2.set_xlabel('Max depth')\n",
    "ax2.set_ylabel('Accuracy')\n",
    "ax2.set_title(\"Evolution of training/validation accuracy with 'Max depth'\\nBest max_depth = \" + str(best_max_depth))\n",
    "ax2.legend()\n",
    "\n",
    "plt.show()"
   ]
  },
  {
   "cell_type": "markdown",
   "id": "09b003d4",
   "metadata": {},
   "source": [
    "**Observation:**\n",
    "\n",
    "- We can see that increasing the **number of estimators** has a sharp postive effect on the accuracy upto a point. In our case, for the sample where max_depth=6, we get sharp improvement upto 50 estimators after which it either dips or improvement is either marginal, flat or negative.\n",
    "- Similarly, we also see that increasing the **decision tree depth** has a sharp positive effect on the accuracy upto a point, after which it is gradual. Increasing the depth even further may have a negative effect on the accuracy."
   ]
  },
  {
   "cell_type": "code",
   "execution_count": 6,
   "id": "8e9186e0",
   "metadata": {},
   "outputs": [],
   "source": [
    "# save the accuracy metrics for random forest in the dictionary. we will save it to disk later\n",
    "results['random forest'] = test_accuracy"
   ]
  },
  {
   "cell_type": "markdown",
   "id": "932e3510",
   "metadata": {},
   "source": [
    "<h3> We will now build support vector machines (SVMs)</h3>\n",
    "We will first build a linear SVM and then use GridSearchCV to build a RBF kernel with different C and gamma values"
   ]
  },
  {
   "cell_type": "code",
   "execution_count": 7,
   "id": "e35cb8b9",
   "metadata": {},
   "outputs": [
    {
     "name": "stdout",
     "output_type": "stream",
     "text": [
      "Training Accuracy: 1.000\n",
      "Validation Accuracy: 0.906\n",
      "Test Accuracy: 0.960\n"
     ]
    }
   ],
   "source": [
    "# ref: decision-trees-and-svms-v2/units/support-vector-machines-v2\n",
    "\n",
    "# first build a linear SVM kernel\n",
    "from sklearn.svm import LinearSVC\n",
    "\n",
    "# Create random forest pipeline\n",
    "linear_svc = Pipeline([\n",
    "    ('scaler', StandardScaler()),\n",
    "    ('svc', LinearSVC())\n",
    "])\n",
    "\n",
    "# Fit estimator\n",
    "linear_svc.fit(x_train, y_train_int)\n",
    "\n",
    "# Evaluate on train, validation and test set\n",
    "train_accuracy_linear = linear_svc.score(x_train, y_train_int)\n",
    "valid_accuracy_linear = linear_svc.score(x_valid, y_valid_int)\n",
    "test_accuracy_linear = linear_svc.score(x_test, y_test_int)\n",
    "\n",
    "print('Training Accuracy: {:.3f}'.format(train_accuracy_linear))\n",
    "print('Validation Accuracy: {:.3f}'.format(valid_accuracy_linear)) \n",
    "print('Test Accuracy: {:.3f}'.format(test_accuracy_linear)) "
   ]
  },
  {
   "cell_type": "code",
   "execution_count": 8,
   "id": "5cfc7f5d",
   "metadata": {},
   "outputs": [
    {
     "name": "stdout",
     "output_type": "stream",
     "text": [
      "Fitting 5 folds for each of 64 candidates, totalling 320 fits\n"
     ]
    },
    {
     "name": "stderr",
     "output_type": "stream",
     "text": [
      "[Parallel(n_jobs=8)]: Using backend LokyBackend with 8 concurrent workers.\n",
      "[Parallel(n_jobs=8)]: Done  34 tasks      | elapsed:    0.8s\n",
      "[Parallel(n_jobs=8)]: Done 184 tasks      | elapsed:    4.0s\n",
      "[Parallel(n_jobs=8)]: Done 320 out of 320 | elapsed:    6.9s finished\n",
      "C:\\Users\\prasa\\anaconda3\\envs\\exts-ml\\lib\\site-packages\\sklearn\\model_selection\\_search.py:841: DeprecationWarning: The default of the `iid` parameter will change from True to False in version 0.22 and will be removed in 0.24. This will change numeric results when test-set sizes are unequal.\n",
      "  DeprecationWarning)\n"
     ]
    },
    {
     "name": "stdout",
     "output_type": "stream",
     "text": [
      "Training Accuracy: 0.996\n",
      "Validation Accuracy: 0.849\n",
      "Test Accuracy: 0.900\n"
     ]
    }
   ],
   "source": [
    "\n",
    "# second, build a RBF SVM kernel with different C and gamma values\n",
    "from sklearn.svm import SVC\n",
    "\n",
    "# Define a grid of values from 0.001 to 1000 to test with a wide range of combinations for C and gamma.\n",
    "grid = {\n",
    "    'svc__C': [0.001, 0.01, 0.1, 0.5, 1, 10, 100, 1000],\n",
    "    'svc__gamma': [0.001, 0.01, 0.1, 0.5, 1, 10, 100, 1000]\n",
    "}\n",
    "\n",
    "# Create random forest pipeline\n",
    "pipe = Pipeline([\n",
    "    ('scaler', StandardScaler()),\n",
    "    ('svc', SVC(kernel='rbf')) # use the rbf kernel\n",
    "])\n",
    "\n",
    "grid_cv = GridSearchCV(pipe, grid, cv=5, return_train_score=True, verbose=True, n_jobs=8)\n",
    "\n",
    "# Since cross validation creates its own validation set, we could have merge our training and validation sets but we will not do so. \n",
    "# This is to maintain parity with the training data used with the other models for a fair comparison.\n",
    "grid_cv.fit(x_train, y_train_int)\n",
    "\n",
    "# Evaluate on train, validation and test set\n",
    "train_accuracy_rbf = grid_cv.score(x_train, y_train_int)\n",
    "valid_accuracy_rbf = grid_cv.score(x_valid, y_valid_int)\n",
    "test_accuracy_rbf = grid_cv.score(x_test, y_test_int)\n",
    "\n",
    "print('Training Accuracy: {:.3f}'.format(train_accuracy_rbf))\n",
    "print('Validation Accuracy: {:.3f}'.format(valid_accuracy_rbf)) \n",
    "print('Test Accuracy: {:.3f}'.format(test_accuracy_rbf)) "
   ]
  },
  {
   "cell_type": "code",
   "execution_count": 9,
   "id": "150b418f",
   "metadata": {},
   "outputs": [
    {
     "data": {
      "text/html": [
       "<div>\n",
       "<style scoped>\n",
       "    .dataframe tbody tr th:only-of-type {\n",
       "        vertical-align: middle;\n",
       "    }\n",
       "\n",
       "    .dataframe tbody tr th {\n",
       "        vertical-align: top;\n",
       "    }\n",
       "\n",
       "    .dataframe thead th {\n",
       "        text-align: right;\n",
       "    }\n",
       "</style>\n",
       "<table border=\"1\" class=\"dataframe\">\n",
       "  <thead>\n",
       "    <tr style=\"text-align: right;\">\n",
       "      <th></th>\n",
       "      <th>mean_test_score</th>\n",
       "      <th>std_test_score</th>\n",
       "      <th>mean_train_score</th>\n",
       "      <th>std_train_score</th>\n",
       "      <th>param_svc__C</th>\n",
       "      <th>param_svc__gamma</th>\n",
       "    </tr>\n",
       "  </thead>\n",
       "  <tbody>\n",
       "    <tr>\n",
       "      <th>32</th>\n",
       "      <td>0.864286</td>\n",
       "      <td>0.055427</td>\n",
       "      <td>0.997317</td>\n",
       "      <td>0.002191</td>\n",
       "      <td>1</td>\n",
       "      <td>0.001</td>\n",
       "    </tr>\n",
       "    <tr>\n",
       "      <th>56</th>\n",
       "      <td>0.864286</td>\n",
       "      <td>0.055427</td>\n",
       "      <td>1.000000</td>\n",
       "      <td>0.000000</td>\n",
       "      <td>1000</td>\n",
       "      <td>0.001</td>\n",
       "    </tr>\n",
       "    <tr>\n",
       "      <th>40</th>\n",
       "      <td>0.864286</td>\n",
       "      <td>0.055427</td>\n",
       "      <td>1.000000</td>\n",
       "      <td>0.000000</td>\n",
       "      <td>10</td>\n",
       "      <td>0.001</td>\n",
       "    </tr>\n",
       "    <tr>\n",
       "      <th>48</th>\n",
       "      <td>0.864286</td>\n",
       "      <td>0.055427</td>\n",
       "      <td>1.000000</td>\n",
       "      <td>0.000000</td>\n",
       "      <td>100</td>\n",
       "      <td>0.001</td>\n",
       "    </tr>\n",
       "    <tr>\n",
       "      <th>24</th>\n",
       "      <td>0.832143</td>\n",
       "      <td>0.043737</td>\n",
       "      <td>0.981281</td>\n",
       "      <td>0.009454</td>\n",
       "      <td>0.5</td>\n",
       "      <td>0.001</td>\n",
       "    </tr>\n",
       "  </tbody>\n",
       "</table>\n",
       "</div>"
      ],
      "text/plain": [
       "    mean_test_score  std_test_score  mean_train_score  std_train_score  \\\n",
       "32         0.864286        0.055427          0.997317         0.002191   \n",
       "56         0.864286        0.055427          1.000000         0.000000   \n",
       "40         0.864286        0.055427          1.000000         0.000000   \n",
       "48         0.864286        0.055427          1.000000         0.000000   \n",
       "24         0.832143        0.043737          0.981281         0.009454   \n",
       "\n",
       "   param_svc__C param_svc__gamma  \n",
       "32            1            0.001  \n",
       "56         1000            0.001  \n",
       "40           10            0.001  \n",
       "48          100            0.001  \n",
       "24          0.5            0.001  "
      ]
     },
     "execution_count": 9,
     "metadata": {},
     "output_type": "execute_result"
    }
   ],
   "source": [
    "# let us use a dataframe to visualize the results\n",
    "import pandas as pd\n",
    "\n",
    "# Collect results in a DataFrame\n",
    "cv_results = pd.DataFrame(grid_cv.cv_results_)\n",
    "\n",
    "# Print a few interesting columns\n",
    "cols = ['mean_test_score', 'std_test_score', 'mean_train_score', 'std_train_score', 'param_svc__C', 'param_svc__gamma']\n",
    "cv_results[cols].sort_values('mean_test_score', ascending=False).head(5)"
   ]
  },
  {
   "cell_type": "code",
   "execution_count": 10,
   "id": "30913753",
   "metadata": {},
   "outputs": [
    {
     "name": "stdout",
     "output_type": "stream",
     "text": [
      "Test accuracy for the linear SVM is 96% while the test accuracy for rbf SVC is 90%\n"
     ]
    }
   ],
   "source": [
    "print(\"Test accuracy for the linear SVM is %.f%% while the test accuracy for rbf SVC is %.f%%\" % (test_accuracy_linear*100 , test_accuracy_rbf*100))"
   ]
  },
  {
   "cell_type": "markdown",
   "id": "c3bd9770",
   "metadata": {},
   "source": [
    "**Observation**: Our linear SVM model performs better than our rbf kernel.\n",
    "\n",
    "The linear SVM model also performs better than our random forest one."
   ]
  },
  {
   "cell_type": "code",
   "execution_count": 11,
   "id": "df26f737",
   "metadata": {},
   "outputs": [],
   "source": [
    "# save the accuracy metrics for SVM\n",
    "results['svm linear'] = test_accuracy_linear\n",
    "results['svm rbf'] = test_accuracy_rbf\n",
    "\n",
    "# save the results dictionary later retrieval\n",
    "with open('results_dict.pkl', 'wb') as f:\n",
    "    pickle.dump(results, f)"
   ]
  }
 ],
 "metadata": {
  "kernelspec": {
   "display_name": "Python 3",
   "language": "python",
   "name": "python3"
  },
  "language_info": {
   "codemirror_mode": {
    "name": "ipython",
    "version": 3
   },
   "file_extension": ".py",
   "mimetype": "text/x-python",
   "name": "python",
   "nbconvert_exporter": "python",
   "pygments_lexer": "ipython3",
   "version": "3.6.13"
  }
 },
 "nbformat": 4,
 "nbformat_minor": 5
}

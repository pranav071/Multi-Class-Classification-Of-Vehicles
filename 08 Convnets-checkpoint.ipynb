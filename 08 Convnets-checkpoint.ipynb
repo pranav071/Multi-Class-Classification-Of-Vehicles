{
 "cells": [
  {
   "cell_type": "markdown",
   "id": "0d41578a",
   "metadata": {},
   "source": [
    "# Image Classifier - <i><font color=orange>08 Convnets</font></i>\n",
    "We will create a convolutional neural network using the raw images to train the model and record our findings."
   ]
  },
  {
   "cell_type": "code",
   "execution_count": 1,
   "id": "747ffade",
   "metadata": {},
   "outputs": [],
   "source": [
    "import os\n",
    "# disable recognition of CUDA capable graphics card to avoid library updates. We will stick to CPU processing for this exercise.\n",
    "os.environ[\"CUDA_VISIBLE_DEVICES\"] = \"-1\"\n",
    "\n",
    "import numpy as np\n",
    "import pickle\n",
    "\n",
    "import tensorflow as tf"
   ]
  },
  {
   "cell_type": "code",
   "execution_count": 2,
   "id": "ebe1a7be",
   "metadata": {},
   "outputs": [],
   "source": [
    "# load the processed lists and supporting data in npz format - we had earlier saved this in the first segment of our code.\n",
    "with np.load('training.npz', allow_pickle=False) as npz_file:\n",
    "    # Load the arrays\n",
    "    imgs_train = npz_file['images']\n",
    "    x_train = npz_file['features']\n",
    "    y_train_ohe = npz_file['targets_ohe']\n",
    "    y_train_int = npz_file['targets_int']\n",
    "    labels_train = npz_file['labels']    \n",
    "    \n",
    "with np.load('validation.npz', allow_pickle=False) as npz_file:\n",
    "    # Load the arrays\n",
    "    imgs_valid = npz_file['images']\n",
    "    x_valid = npz_file['features']\n",
    "    y_valid_ohe = npz_file['targets_ohe']\n",
    "    y_valid_int = npz_file['targets_int']\n",
    "    labels_valid = npz_file['labels']    \n",
    "\n",
    "with np.load('testing.npz', allow_pickle=False) as npz_file:\n",
    "    # Load the arrays\n",
    "    imgs_test = npz_file['images']\n",
    "    x_test = npz_file['features']\n",
    "    y_test_ohe = npz_file['targets_ohe']\n",
    "    y_test_int = npz_file['targets_int']\n",
    "    labels_test = npz_file['labels']    \n",
    "    \n",
    "with open('labels_dict.pkl', 'rb') as f:\n",
    "    labels = pickle.load(f)\n",
    "    \n",
    "with open('results_dict.pkl', 'rb') as f:\n",
    "    results = pickle.load(f)    "
   ]
  },
  {
   "cell_type": "code",
   "execution_count": 3,
   "id": "809122ea",
   "metadata": {},
   "outputs": [],
   "source": [
    "# set a fixed seed to get the same results on every run for recording our findings for this exercise.\n",
    "# ref: https://towardsdatascience.com/how-to-solve-randomness-in-an-artificial-neural-network-3befc4f27d45\n",
    "\n",
    "from numpy.random import seed\n",
    "from tensorflow import set_random_seed\n",
    "\n",
    "seed(0)\n",
    "set_random_seed(0)"
   ]
  },
  {
   "cell_type": "markdown",
   "id": "0555b78d",
   "metadata": {},
   "source": [
    "<h3>We will now build our convolutional neural network</h3>\n",
    "We have been using the features extracted from mobilenet_v2 for all our previous work. For our CNN, we will work on the raw images"
   ]
  },
  {
   "cell_type": "markdown",
   "id": "5d42cb47",
   "metadata": {},
   "source": [
    "Our network will have the following layers.\n",
    "\n",
    "- Input layer with 224 by 224 RGB images\n",
    "- Convolutional layer - 64 filters, 5x5 kernels, 2x2 strides and ReLU activation\n",
    "- Maxpool layer - 2x2 pool size, 2x2 strides\n",
    "- Convolutional layer - 64 filters, 3x3 kernels, 1x1 strides and ReLU activation\n",
    "- Maxpool layer - 2x2 pool size, 2x2 stride\n",
    "\n",
    "We then flatten the output of this last pooling layer and get 1,024 units. \n",
    "We connect it to a final 2-layer \"dense\" network with:\n",
    "\n",
    "- Fully-connected layer with 16 units and ReLU activation\n",
    "- Softmax regression layer with 6 output units"
   ]
  },
  {
   "cell_type": "code",
   "execution_count": 4,
   "id": "224dc29d",
   "metadata": {},
   "outputs": [
    {
     "name": "stdout",
     "output_type": "stream",
     "text": [
      "_________________________________________________________________\n",
      "Layer (type)                 Output Shape              Param #   \n",
      "=================================================================\n",
      "conv2d (Conv2D)              (None, 110, 110, 64)      4864      \n",
      "_________________________________________________________________\n",
      "max_pooling2d (MaxPooling2D) (None, 55, 55, 64)        0         \n",
      "_________________________________________________________________\n",
      "conv2d_1 (Conv2D)            (None, 53, 53, 64)        36928     \n",
      "_________________________________________________________________\n",
      "max_pooling2d_1 (MaxPooling2 (None, 26, 26, 64)        0         \n",
      "_________________________________________________________________\n",
      "flatten (Flatten)            (None, 43264)             0         \n",
      "_________________________________________________________________\n",
      "dense (Dense)                (None, 32)                1384480   \n",
      "_________________________________________________________________\n",
      "dense_1 (Dense)              (None, 6)                 198       \n",
      "=================================================================\n",
      "Total params: 1,426,470\n",
      "Trainable params: 1,426,470\n",
      "Non-trainable params: 0\n",
      "_________________________________________________________________\n",
      "None\n",
      "Train on 280 samples, validate on 139 samples\n",
      "Epoch 1/50\n",
      "280/280 [==============================] - 5s 17ms/step - loss: 2.4595 - acc: 0.1214 - val_loss: 1.7863 - val_acc: 0.2518\n",
      "Epoch 2/50\n",
      "280/280 [==============================] - 5s 18ms/step - loss: 1.8067 - acc: 0.2071 - val_loss: 1.7839 - val_acc: 0.2374\n",
      "Epoch 3/50\n",
      "280/280 [==============================] - 5s 17ms/step - loss: 1.7875 - acc: 0.2714 - val_loss: 1.7801 - val_acc: 0.2806\n",
      "Epoch 4/50\n",
      "280/280 [==============================] - 5s 18ms/step - loss: 1.7920 - acc: 0.2821 - val_loss: 1.7658 - val_acc: 0.2230\n",
      "Epoch 5/50\n",
      "280/280 [==============================] - 5s 17ms/step - loss: 1.7667 - acc: 0.3536 - val_loss: 1.7550 - val_acc: 0.2302\n",
      "Epoch 6/50\n",
      "280/280 [==============================] - 5s 17ms/step - loss: 1.7539 - acc: 0.4071 - val_loss: 1.7316 - val_acc: 0.2590\n",
      "Epoch 7/50\n",
      "280/280 [==============================] - 5s 18ms/step - loss: 1.7082 - acc: 0.3786 - val_loss: 1.7067 - val_acc: 0.2518\n",
      "Epoch 8/50\n",
      "280/280 [==============================] - 5s 18ms/step - loss: 1.6640 - acc: 0.3786 - val_loss: 1.6736 - val_acc: 0.2014\n",
      "Epoch 9/50\n",
      "280/280 [==============================] - 5s 17ms/step - loss: 1.6184 - acc: 0.4679 - val_loss: 1.6448 - val_acc: 0.3381\n",
      "Epoch 10/50\n",
      "280/280 [==============================] - 5s 17ms/step - loss: 1.4884 - acc: 0.5321 - val_loss: 1.5944 - val_acc: 0.2446\n",
      "Epoch 11/50\n",
      "280/280 [==============================] - 5s 17ms/step - loss: 1.3684 - acc: 0.4964 - val_loss: 1.4756 - val_acc: 0.4029\n",
      "Epoch 12/50\n",
      "280/280 [==============================] - 5s 17ms/step - loss: 1.1726 - acc: 0.6107 - val_loss: 1.4798 - val_acc: 0.3885\n",
      "Epoch 13/50\n",
      "280/280 [==============================] - 5s 17ms/step - loss: 0.9660 - acc: 0.7393 - val_loss: 1.3701 - val_acc: 0.4460\n",
      "Epoch 14/50\n",
      "280/280 [==============================] - 5s 18ms/step - loss: 0.7874 - acc: 0.7679 - val_loss: 1.4573 - val_acc: 0.4101\n",
      "Epoch 15/50\n",
      "280/280 [==============================] - 5s 17ms/step - loss: 0.5658 - acc: 0.8679 - val_loss: 1.4761 - val_acc: 0.4101\n",
      "Epoch 16/50\n",
      "280/280 [==============================] - 5s 18ms/step - loss: 0.4641 - acc: 0.8821 - val_loss: 1.4856 - val_acc: 0.4604\n",
      "Epoch 17/50\n",
      "280/280 [==============================] - 5s 18ms/step - loss: 0.2441 - acc: 0.9464 - val_loss: 1.5070 - val_acc: 0.4892\n",
      "Epoch 18/50\n",
      "280/280 [==============================] - 5s 17ms/step - loss: 0.1701 - acc: 0.9679 - val_loss: 1.6812 - val_acc: 0.4604\n",
      "Epoch 19/50\n",
      "280/280 [==============================] - 5s 17ms/step - loss: 0.1005 - acc: 0.9929 - val_loss: 1.7299 - val_acc: 0.4460\n"
     ]
    }
   ],
   "source": [
    "import tensorflow.keras as keras\n",
    "\n",
    "# Convolutional Network\n",
    "model = keras.Sequential()\n",
    "model.add(keras.layers.Conv2D(filters=64, kernel_size=5, strides=2, activation='relu', input_shape=(224, 224, 3)))\n",
    "model.add(keras.layers.MaxPool2D(pool_size=2))\n",
    "model.add(keras.layers.Conv2D(filters=64, kernel_size=3, strides=1,activation='relu'))\n",
    "model.add(keras.layers.MaxPool2D(pool_size=2))\n",
    "\n",
    "model.add(keras.layers.Flatten())\n",
    "\n",
    "model.add(keras.layers.Dense(32, activation='relu'))\n",
    "model.add(keras.layers.Dense(6, activation='softmax'))\n",
    "\n",
    "print(model.summary())\n",
    "\n",
    "# note that we are using categorical_crossentropy which works with one-hot-encoding. Here, we will use y_train_ohe instread of y_train_int.\n",
    "model.compile(optimizer=keras.optimizers.Adam(), loss='categorical_crossentropy', metrics=['acc'])\n",
    "\n",
    "# End training when accuracy stops improving (optional)\n",
    "early_stopping = keras.callbacks.EarlyStopping(monitor='val_loss', patience=6)\n",
    "\n",
    "# Fit model - we will use our validation_data instead of validation_split of the training data\n",
    "# Note that our images are already scaled between 0 and 1\n",
    "history = model.fit(\n",
    "    x=imgs_train, y=y_train_ohe,\n",
    "    batch_size=32, epochs=50,\n",
    "    callbacks=[early_stopping],\n",
    "    validation_data=(imgs_valid, y_valid_ohe),\n",
    "    verbose=True,\n",
    "    shuffle=False, # Turn shuffle off to get the same results on every run.\n",
    "    workers=8\n",
    ")"
   ]
  },
  {
   "cell_type": "code",
   "execution_count": 5,
   "id": "3355cb5a",
   "metadata": {},
   "outputs": [
    {
     "data": {
      "image/png": "[encoded data removed]",
      "text/plain": [
       "<Figure size 864x288 with 2 Axes>"
      ]
     },
     "metadata": {
      "needs_background": "light"
     },
     "output_type": "display_data"
    }
   ],
   "source": [
    "# lets plot the validation loss and accuracy curves\n",
    "\n",
    "%matplotlib inline\n",
    "import matplotlib.pyplot as plt\n",
    "\n",
    "fig, (ax1, ax2) = plt.subplots(nrows=1, ncols=2, figsize=(12, 4))\n",
    "\n",
    "# Plot loss values\n",
    "ax1.set_title('Validation loss: {:.4f}'.format(history.history['val_loss'][-1]))\n",
    "ax1.plot(history.history['val_loss'], label='validation')\n",
    "ax1.plot(history.history['loss'], label='training')\n",
    "ax1.legend()\n",
    "\n",
    "# plot accuracy values\n",
    "ax2.set_title('Validation accuracy: {:.2f}%'.format(history.history['val_acc'][-1]*100))\n",
    "ax2.plot(history.history['val_acc'], label='validation')\n",
    "ax2.plot(history.history['acc'], label='training')\n",
    "ax2.legend()\n",
    "\n",
    "plt.show()"
   ]
  },
  {
   "cell_type": "code",
   "execution_count": 6,
   "id": "c2ac64d8",
   "metadata": {},
   "outputs": [
    {
     "name": "stdout",
     "output_type": "stream",
     "text": [
      "50/50 [==============================] - 0s 5ms/step\n",
      "Test loss: 1.75\n",
      "Test accuracy: 40.00%\n"
     ]
    }
   ],
   "source": [
    "# evaluate the test data to find the test accuracy\n",
    "(test_loss, test_accuracy) = model.evaluate(imgs_test, y_test_ohe, batch_size=32)\n",
    "\n",
    "print('Test loss: {:.2f}'.format(test_loss))\n",
    "print('Test accuracy: {:.2f}%'.format(100*test_accuracy))\n"
   ]
  },
  {
   "cell_type": "markdown",
   "id": "2cb26347",
   "metadata": {},
   "source": [
    "**Observation**: Our convolutional neural network is only able to achieve a low accuracy with raw image data. \n",
    "\n",
    "This makes sense as the features used in earlier (non-cnn) models were from a convolutional neural network (mobilenet_v2) that is 53 layers deep and was trained with thousands of images.\n",
    "\n",
    "**NOTE:** I experimented with additional dense layers, dropout layers and increasing the units in the dense layers, but the accuracy did not improve. Finally, i decided to retain the simplest model without the additional layers."
   ]
  },
  {
   "cell_type": "code",
   "execution_count": 7,
   "id": "e03a8b71",
   "metadata": {},
   "outputs": [],
   "source": [
    "# save the accuracy metrics for CNN\n",
    "results['cnn'] = test_accuracy\n",
    "\n",
    "# save the results dictionary later retrieval\n",
    "with open('results_dict.pkl', 'wb') as f:\n",
    "    pickle.dump(results, f)"
   ]
  }
 ],
 "metadata": {
  "kernelspec": {
   "display_name": "Python 3",
   "language": "python",
   "name": "python3"
  },
  "language_info": {
   "codemirror_mode": {
    "name": "ipython",
    "version": 3
   },
   "file_extension": ".py",
   "mimetype": "text/x-python",
   "name": "python",
   "nbconvert_exporter": "python",
   "pygments_lexer": "ipython3",
   "version": "3.6.13"
  }
 },
 "nbformat": 4,
 "nbformat_minor": 5
}

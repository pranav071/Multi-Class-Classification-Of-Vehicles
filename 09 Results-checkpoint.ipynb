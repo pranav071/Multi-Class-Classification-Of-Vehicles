{
 "cells": [
  {
   "cell_type": "markdown",
   "id": "e01bcb17",
   "metadata": {},
   "source": [
    "# Image Classifier - <i><font color=orange>09 Results</font></i>\n",
    "Here, we will summarize the test accuracy of all the models created and tested before. We have been collecting the 'test accuracy' in a dictionary and saving it using the pickle library. We will use that data to display the results and plot a bar graph. "
   ]
  },
  {
   "cell_type": "code",
   "execution_count": 1,
   "id": "569997be",
   "metadata": {},
   "outputs": [],
   "source": [
    "import pickle\n",
    "\n",
    "with open('results_dict.pkl', 'rb') as f:\n",
    "    results = pickle.load(f)  "
   ]
  },
  {
   "cell_type": "code",
   "execution_count": 2,
   "id": "e87086ae",
   "metadata": {},
   "outputs": [
    {
     "data": {
      "text/html": [
       "<div>\n",
       "<style scoped>\n",
       "    .dataframe tbody tr th:only-of-type {\n",
       "        vertical-align: middle;\n",
       "    }\n",
       "\n",
       "    .dataframe tbody tr th {\n",
       "        vertical-align: top;\n",
       "    }\n",
       "\n",
       "    .dataframe thead th {\n",
       "        text-align: right;\n",
       "    }\n",
       "</style>\n",
       "<table border=\"1\" class=\"dataframe\">\n",
       "  <thead>\n",
       "    <tr style=\"text-align: right;\">\n",
       "      <th></th>\n",
       "      <th>test_accuracy</th>\n",
       "    </tr>\n",
       "  </thead>\n",
       "  <tbody>\n",
       "    <tr>\n",
       "      <th>2-layer nn</th>\n",
       "      <td>98.0</td>\n",
       "    </tr>\n",
       "    <tr>\n",
       "      <th>logistic</th>\n",
       "      <td>96.0</td>\n",
       "    </tr>\n",
       "    <tr>\n",
       "      <th>random forest</th>\n",
       "      <td>96.0</td>\n",
       "    </tr>\n",
       "    <tr>\n",
       "      <th>svm linear</th>\n",
       "      <td>96.0</td>\n",
       "    </tr>\n",
       "    <tr>\n",
       "      <th>knn</th>\n",
       "      <td>92.0</td>\n",
       "    </tr>\n",
       "    <tr>\n",
       "      <th>1-layer nn</th>\n",
       "      <td>92.0</td>\n",
       "    </tr>\n",
       "    <tr>\n",
       "      <th>svm rbf</th>\n",
       "      <td>90.0</td>\n",
       "    </tr>\n",
       "    <tr>\n",
       "      <th>decision tree</th>\n",
       "      <td>80.0</td>\n",
       "    </tr>\n",
       "    <tr>\n",
       "      <th>cnn</th>\n",
       "      <td>34.0</td>\n",
       "    </tr>\n",
       "  </tbody>\n",
       "</table>\n",
       "</div>"
      ],
      "text/plain": [
       "               test_accuracy\n",
       "2-layer nn              98.0\n",
       "logistic                96.0\n",
       "random forest           96.0\n",
       "svm linear              96.0\n",
       "knn                     92.0\n",
       "1-layer nn              92.0\n",
       "svm rbf                 90.0\n",
       "decision tree           80.0\n",
       "cnn                     34.0"
      ]
     },
     "execution_count": 2,
     "metadata": {},
     "output_type": "execute_result"
    }
   ],
   "source": [
    "# convert our results dictionary to df for visualization and usage with graphs\n",
    "import pandas as pd\n",
    "\n",
    "df = pd.DataFrame.from_dict(results, orient='index', columns=['test_accuracy'])\n",
    "\n",
    "# convert values into percentages\n",
    "df['test_accuracy'] = df['test_accuracy'] * 100\n",
    "\n",
    "# display the results sorted by the test_accuracy, best result first.\n",
    "df.sort_values(by='test_accuracy', ascending=False)"
   ]
  },
  {
   "cell_type": "code",
   "execution_count": 3,
   "id": "ac2ef4cc",
   "metadata": {},
   "outputs": [
    {
     "data": {
      "image/png": "[encoded data removed]",
      "text/plain": [
       "<Figure size 432x288 with 1 Axes>"
      ]
     },
     "metadata": {
      "needs_background": "light"
     },
     "output_type": "display_data"
    }
   ],
   "source": [
    "# lets plot a horizontal bar graph to visualize our findings\n",
    "ax = df.sort_values(by='test_accuracy', ascending=True).plot.barh()\n",
    "ax.set_title(\"Model performance\")\n",
    "ax.set_xlabel(\"Test accuracy in percentage\")\n",
    "\n",
    "ax.plot();"
   ]
  },
  {
   "cell_type": "markdown",
   "id": "6083c486",
   "metadata": {},
   "source": [
    "**Conclusion**: The 2-layer neural network works best, followed by logistic regression and SVM with a linear kernel. Random forest and K-NN comes next followed by 1-layer neural network and SVM with the rbf kernel, \n",
    "\n",
    "Even after improving our decision tree by finding a suitable PCA using grid search, it does not perform as well as the models mentioned above. Probably using a cross validated grid search with varying PCA and max_depth values might provide better results.\n",
    "\n",
    "As expected, our convolutional neural network built from scratch using the raw images as input performs significantly worst. Compared to the other models which has access to pre-existing high level features from a complex CNN trained with a large dataset, our CNN uses a simple network with a small training set. "
   ]
  }
 ],
 "metadata": {
  "kernelspec": {
   "display_name": "Python 3",
   "language": "python",
   "name": "python3"
  },
  "language_info": {
   "codemirror_mode": {
    "name": "ipython",
    "version": 3
   },
   "file_extension": ".py",
   "mimetype": "text/x-python",
   "name": "python",
   "nbconvert_exporter": "python",
   "pygments_lexer": "ipython3",
   "version": "3.6.13"
  }
 },
 "nbformat": 4,
 "nbformat_minor": 5
}
